{
  "nbformat": 4,
  "nbformat_minor": 0,
  "metadata": {
    "colab": {
      "provenance": [],
      "authorship_tag": "ABX9TyO3k7XW8OZSUXjS1pPvlAJw",
      "include_colab_link": true
    },
    "kernelspec": {
      "name": "python3",
      "display_name": "Python 3"
    },
    "language_info": {
      "name": "python"
    }
  },
  "cells": [
    {
      "cell_type": "markdown",
      "metadata": {
        "id": "view-in-github",
        "colab_type": "text"
      },
      "source": [
        "<a href=\"https://colab.research.google.com/github/codingsohyun/fc_machine_learning_study/blob/main/%5B15%5D%EC%8B%AC%EC%9E%A5%EC%A7%88%ED%99%98_%ED%99%98%EC%9E%90_%EB%B6%84%EC%84%9D_%EB%B0%8F_%EC%98%88%EC%B8%A1.ipynb\" target=\"_parent\"><img src=\"https://colab.research.google.com/assets/colab-badge.svg\" alt=\"Open In Colab\"/></a>"
      ]
    },
    {
      "cell_type": "markdown",
      "source": [
        "# 문제 상황 설명\n",
        "1. 환자의 개인정보를 활용하여 심장질환이 의심 되는 환자를 Detection 함\n",
        "2. 정밀검사를 들어가기 전 환자의 기본적인 상태를 보고 판단할 수 있음\n",
        "3. 검사 Cost를 줄이고 의사들의 Human Bias를 줄여주게 됨"
      ],
      "metadata": {
        "id": "MaDugjoLV7am"
      }
    },
    {
      "cell_type": "markdown",
      "source": [
        "< Check Point >\n",
        "- 질병 데이터의 경우 Data imbalance가 큰 경우가 많음\n",
        "- 질병에 걸린 사람보다 질병에 걸리지 않은 사람이 많기 때문\n",
        "- 하지만 이번 데이터에서는 Data Imbalance가 일어나지 않았음\n",
        "- 만약 Imbalance가 일어났을 경우 Class Loss Weight를 주거나\n",
        "\n",
        "  Data augmentation을 통해 데이터를 맞춰주는 작업이 필요함\n",
        "\n",
        "  아니면 GAN을 활용하여 질병 데이터를 생산하는 방법도 있음 (ex. AnoGAN)\n",
        "- Bootstrap 수행 시 balance가 부족한 데이터는 무조건 뽑고,\n",
        "\n",
        "  balance가 높은 데이터는 샘플링하여 뽑은 후 Tree를 구성하는 것도 하나의 방법임"
      ],
      "metadata": {
        "id": "fAPmqvC6WQO7"
      }
    },
    {
      "cell_type": "markdown",
      "source": [
        "< 기대 효과 >\n",
        "- 의사 Human Bias 감소\n",
        "- 측정 Cost 감소 (정밀 검사 전 판단할 수 있는 정보를 제공할 수 있음)\n",
        "\n",
        "  또한, 시간이 의사가 판단하는 시간보다 획기적으로 줄어듬\n",
        "- 심장 질환에 영향을 미치는 중요한 변수 추출 가능\n",
        "- 심장 질환을 일으키는 새로운 Rule을 추출할 수 있음\n"
      ],
      "metadata": {
        "id": "HloVr8mwZgNe"
      }
    },
    {
      "cell_type": "markdown",
      "source": [
        "< 성과 측정 >\n",
        "- 의학분야에 새로운 패러다임 적용\n",
        "- 검사 Cost 계산\n",
        "- 또한 심장 질환을 일으키는 Rule을 바탕으로 국민 건강 향상"
      ],
      "metadata": {
        "id": "SXmGcNNjbumq"
      }
    },
    {
      "cell_type": "markdown",
      "source": [
        "# Data Info Check"
      ],
      "metadata": {
        "id": "vcNL8tmVfSGd"
      }
    },
    {
      "cell_type": "code",
      "source": [
        "# Warnings 제거\n",
        "import warnings\n",
        "warnings.filterwarnings('ignore')\n",
        "\n",
        "# Google drive mount or 폴더 클릭 후 구글 드라이브 연결\n",
        "from google.colab import drive\n",
        "drive.mount('/content/drive')"
      ],
      "metadata": {
        "id": "2cBc83lybtaX",
        "colab": {
          "base_uri": "https://localhost:8080/"
        },
        "outputId": "47bfa4cd-527b-4a90-c13d-812daec88180"
      },
      "execution_count": 3,
      "outputs": [
        {
          "output_type": "stream",
          "name": "stdout",
          "text": [
            "Mounted at /content/drive\n"
          ]
        }
      ]
    },
    {
      "cell_type": "code",
      "source": [],
      "metadata": {
        "id": "JT1BG0p5frJs"
      },
      "execution_count": null,
      "outputs": []
    }
  ]
}